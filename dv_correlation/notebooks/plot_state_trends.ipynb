{
 "cells": [
  {
   "cell_type": "code",
   "execution_count": null,
   "metadata": {},
   "outputs": [],
   "source": [
    "from datetime import datetime\n",
    "\n",
    "from matplotlib.backends.backend_pdf import PdfPages\n",
    "import matplotlib.dates as mpld\n",
    "import matplotlib.pyplot as plt\n",
    "import numpy as np\n",
    "import pandas as pd\n",
    "from sklearn.preprocessing import minmax_scale\n",
    "\n",
    "filepath = \"~/EDI_AGG_OUTPATIENT/\"\n",
    "DTYPES = {\"servicedate\": str, \"patCountyFIPS\": str,\n",
    "            \"Denominator\": int, \"Flu1\": int,\n",
    "            \"Covid_like\": int, \"Flu_like\": int,\n",
    "            \"Mixed\": int, \"patAgeGroup\": str,\n",
    "            \"patHRRname\": str, \"patHRRid\": float}\n",
    "date = \"servicedate\""
   ]
  },
  {
   "cell_type": "code",
   "execution_count": null,
   "metadata": {},
   "outputs": [],
   "source": [
    "df = pd.read_csv(filepath + \"EDI_AGG_OUTPATIENT_20200823_0250CDT.csv.gz\", dtype = DTYPES,\n",
    "           parse_dates = [\"servicedate\"])"
   ]
  },
  {
   "cell_type": "code",
   "execution_count": null,
   "metadata": {},
   "outputs": [],
   "source": [
    "df.shape"
   ]
  },
  {
   "cell_type": "code",
   "execution_count": null,
   "metadata": {},
   "outputs": [],
   "source": [
    "df.drop(columns=[\"patHRRname\", \"patHRRid\", \"patAgeGroup\"], inplace=True)\n",
    "df.dropna(inplace=True)\n",
    "df = df[((df[date] <= datetime(2020, 8, 22)) & (df[date] > datetime(2020, 3, 1)))]\n",
    "df = df.groupby([date, \"patCountyFIPS\"]).sum().reset_index()\n",
    "df.shape"
   ]
  },
  {
   "cell_type": "code",
   "execution_count": null,
   "metadata": {},
   "outputs": [],
   "source": [
    "## -- check out specific FIPS\n",
    "# foo = df[df[\"patCountyFIPS\"] == \"20029\"]\n",
    "# foo = foo.sort_values(by=['servicedate'])\n",
    "# plt.plot(foo.servicedate, foo.Flu_like.rolling(7).sum())\n",
    "# #plt.axhline(y=100)\n",
    "# plt.xticks(rotation=90)\n",
    "# plt.show()\n",
    "# foo.servicedate"
   ]
  },
  {
   "cell_type": "code",
   "execution_count": null,
   "metadata": {},
   "outputs": [],
   "source": [
    "# -- map counties to state level \n",
    "state_map = pd.read_csv(\"~/Delphi/covid-19/geographical_scope/02_20_uszips.csv\",\n",
    "                        usecols=[\"fips\", \"state_id\"],\n",
    "                        dtype={\"state_id\": str},\n",
    "                        converters={\"fips\": lambda x:  str(x).zfill(5)})\n",
    "locs = state_map[\"state_id\"].unique()\n",
    "state_map.drop_duplicates(inplace=True)\n",
    "data = df.merge(state_map, how=\"left\", left_on=\"patCountyFIPS\", right_on=\"fips\")\n",
    "data.dropna(inplace=True)\n",
    "data.drop(columns=[\"patCountyFIPS\", \"fips\"], inplace=True)\n",
    "data = data.groupby([\"state_id\", date]).sum()"
   ]
  },
  {
   "cell_type": "code",
   "execution_count": null,
   "metadata": {},
   "outputs": [],
   "source": [
    "# -- start pdf document\n",
    "pdf_pages = PdfPages(\"flu1.pdf\")\n",
    "n_plot = len(locs)\n",
    "n_plots_per_page = 25\n",
    "\n",
    "# -- init plotting axis and counter\n",
    "fig, axs = None, None\n",
    "j = 0\n",
    "\n",
    "for i, loc in enumerate(locs):\n",
    "    # start new page if needed\n",
    "    if i % n_plots_per_page == 0:\n",
    "        fig, axs = plt.subplots(5, 5, figsize=(10, 10))\n",
    "        axs = axs.ravel()\n",
    "        j = 0\n",
    "\n",
    "    # plot\n",
    "    x = data.loc[loc]\n",
    "\n",
    "    #axs[j].plot(x.index, x.Flu_like, alpha=0.2)\n",
    "    #x_smooth = minmax_scale(x[\"Covid_like\"].rolling(7).mean() + x[\"Flu_like\"].rolling(7).mean() +\n",
    "    #                        x[\"Mixed\"].rolling(7).mean() - x[\"Flu1\"].rolling(7).mean())\n",
    "    #axs[j].plot(x.index, x_smooth, label=\"numerator\")\n",
    "    #x_smooth_d = minmax_scale(x[\"Denominator\"].rolling(7).mean())\n",
    "    #axs[j].plot(x.index, x_smooth_d, label=\"denominator\")\n",
    "    #ratio = x_smooth / (x_smooth_d)\n",
    "    #ratio[np.isinf(ratio)] = 0\n",
    "    #axs[j].plot(x.index, minmax_scale(ratio), label=\"ratio\")\n",
    "    axs[j].plot(x.index, 100 * x.Flu1.rolling(7).mean() / x[\"Denominator\"].rolling(7).mean(), \n",
    "                label=\"100*Flu_like/Denominator\")\n",
    "    axs[j].legend(fontsize=\"xx-small\")\n",
    "    axs[j].set_title(loc)\n",
    "    axs[j].xaxis.set_major_formatter(mpld.DateFormatter('%m-%d'))\n",
    "    axs[j].tick_params(axis='both', which='major', labelsize=5, labelrotation=90)\n",
    "    #axs[j].set_yticks([]) # obscure y-axis\n",
    "\n",
    "    # close the page if needed\n",
    "    if (i + 1) % n_plots_per_page == 0 or (i + 1) == n_plot:\n",
    "        plt.tight_layout()\n",
    "        pdf_pages.savefig(fig)\n",
    "        plt.close()\n",
    "    j += 1\n",
    "\n",
    "pdf_pages.close()"
   ]
  },
  {
   "cell_type": "code",
   "execution_count": null,
   "metadata": {},
   "outputs": [],
   "source": []
  }
 ],
 "metadata": {
  "kernelspec": {
   "display_name": "Python 3",
   "language": "python",
   "name": "python3"
  },
  "language_info": {
   "codemirror_mode": {
    "name": "ipython",
    "version": 3
   },
   "file_extension": ".py",
   "mimetype": "text/x-python",
   "name": "python",
   "nbconvert_exporter": "python",
   "pygments_lexer": "ipython3",
   "version": "3.7.7"
  },
  "toc": {
   "base_numbering": 1,
   "nav_menu": {},
   "number_sections": false,
   "sideBar": true,
   "skip_h1_title": false,
   "title_cell": "Table of Contents",
   "title_sidebar": "Contents",
   "toc_cell": true,
   "toc_position": {},
   "toc_section_display": true,
   "toc_window_display": false
  }
 },
 "nbformat": 4,
 "nbformat_minor": 4
}
