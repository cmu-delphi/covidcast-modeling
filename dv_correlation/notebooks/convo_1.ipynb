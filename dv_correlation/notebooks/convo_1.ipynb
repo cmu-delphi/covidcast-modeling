{
 "cells": [
  {
   "cell_type": "markdown",
   "metadata": {},
   "source": [
    "# Conversation 1  Aug 25"
   ]
  },
  {
   "cell_type": "markdown",
   "metadata": {},
   "source": [
    "Ryan Aug 25th at 9:19 AM\n",
    "\n",
    "> I just want to update you on something I found happening with the DV signal correlations at the county level, when I refactored/updated ou\n",
    "r correlation notebook yesterday.  You can see that the DV signal’s correlations sliced by time, having been degrading since April.  Right n\n",
    "ow it’s quite bad, the worst of our signals.\n",
    "> I think James is going to make an issue of this on the covidcast-indicators repo, but I wanted to start the discussion here just with two \n",
    "thoughts as to why this could be happening.  (Let’s keep this to be just about the DV signal; general discussion about maintaining some kind\n",
    " of dashboard for our signals is here and here).\n",
    "\n",
    "**Thought 1.** Has the DV sample size dropping over time, and we haven’t noticed it?  This seems possible since we’re not even reporting this \n",
    "sample size publicly, and it would require us to look at it internally.  Assuming we erect a dashboard for the DV signal, like the basic das\n",
    "hboard I made for the FB signal, we could plot something like the relative sample size to what it was on the first day.\n",
    "\n",
    "**Thought 2:** Is this a reflection of a change in medical-seeking behavior, that is happening asynchronously across different counties?  Mean\n",
    "ing, for example, some people may be going to the doctor’s office for more trivial reasons in some counties, but still only for serious reas\n",
    "ons in other counties, and these progressions over time aren’t compatible across counties?  Intuitively, this seems entirely plausible, and \n",
    "this would mess up comparisons of our signal for a fixed time over space.  And there’s some empirical evidence for this: you can see that th\n",
    "e correlations sliced by time are quite bad (time series plot), but the correlations sliced by county are still OK (histograms plot).\n",
    "\n",
    "> If the second explanation is really what’s happening, then it’ll also be messing up any global forecasting model that tries to use the DV \n",
    "signal, since as time progresses, it’ll start to mean different things in different counties.  cc @Addison @Vishnu Shankar @Rob Tibshirani.\n",
    "\n",
    "> And, if the second explanation is really what’s happening, then we might have to choose the denominator in the DV signal in a more “statio\n",
    "nary” way.  That is, take the ratio of CLI-visits to something that is meaningful and stationary over time, or at least, it has the same non\n",
    "stationary trend across all counties."
   ]
  },
  {
   "cell_type": "markdown",
   "metadata": {},
   "source": [
    "Aaron Rumack  2 days ago\n",
    "\n",
    "> Re Thought 1: From the raw drops, it doesn’t appear that the sample size has been dropping over time. The denominator throughout July is a\n",
    "bout the same as it was throughout January."
   ]
  },
  {
   "cell_type": "markdown",
   "metadata": {},
   "source": [
    "Maria  2 days ago\n",
    "\n",
    "> For what it's worth, here are the denominators at the state level for the latest drop. Like Aaron said, mainly steady -- new england actually looks to be increasing. We do see a peak in visits around May, but since June it looks somewhat flat. The decline at the end can be attributed to backfill. AK is somewhat anomalous. The only other concern would be data issues over at HSP, which is not out of question, but not possible to \"fix\" at our end.\n",
    " \n",
    "<img src=\"images/denom-1.png\">\n",
    "\n",
    "<img src=\"images/denom-2.png\">\n",
    "\n",
    "<img src=\"images/denom-3.png\">"
   ]
  },
  {
   "cell_type": "markdown",
   "metadata": {},
   "source": [
    "Addison  2 days ago\n",
    "\n",
    "> @Maria comparing to the correlations sliced by time in Ryan's notebook (attached), one could argue that the point where the DV correlation \"diverges\" from the other signals is in mid-June (i.e., DV correlation is steady-ish, whereas the other signals see a big jump in correlation).  This time period (mid-June) which is also when the denominator drops a lot in many states.  So this may give so credence to \"Thought 1\"?\n",
    "\n",
    "<img src=\"images/corr_mult.png\">"
   ]
  },
  {
   "cell_type": "markdown",
   "metadata": {},
   "source": [
    "Roni  3 days ago\n",
    "\n",
    "@Ryan In addition to the mystery of dropping DV correlation, there is an even bigger question of why do the correlations of all the indicators rise from mid-June to mid-July, then drop from mid-July to at least mid-August, forming a beautiful, smooth half-dome.  Since it's all the indicators, the culprit is likely the Cases signal itself.  But why exactly?  Is it the rising then falling number of cases?  Does the definition of \"Active\" county (to be included in the correlation) change across dates?\n",
    "\n",
    "@Ryan notice that at least half of the drop in DV correlations is attributable to the all-indicator drop."
   ]
  },
  {
   "cell_type": "markdown",
   "metadata": {},
   "source": [
    "Aaron Rumack  3 days ago\n",
    "\n",
    "I think the spike in May and drop in June is due to people going back to the doctor after delaying non-essential visits. In May, the number of CLI visits increased while the %CLI decreased. So I will propose Thought 3: The number of CLI visits increases in May, which truly is correlated with case counts. Because of the spike in non-essential visits in May, %CLI decreases, which then decreases the correlation between case counts and the DV signal. In June, the number of CLI is much less than it was in May, but %CLI is actually higher, again decreasing the correlation between case counts and the DV signal.\n",
    "EDIT: I don’t think Thought 3 is correct"
   ]
  },
  {
   "cell_type": "markdown",
   "metadata": {},
   "source": [
    "Maria  3 days ago\n",
    "\n",
    "@Addison Could be, I'm not sure. The correlation seems steadily dropping from April to end of June, stable through most of July, and then decreasing steadily again. It didn't seem to correlate to the denominator from my naked eye."
   ]
  },
  {
   "cell_type": "markdown",
   "metadata": {},
   "source": [
    "Alex Reinhart  3 days ago\n",
    "\n",
    "The June-July bump corresponds with a large increase in the deviation of case rates between counties, as Ryan showed in the draft blog post"
   ]
  },
  {
   "cell_type": "markdown",
   "metadata": {},
   "source": [
    "Aaron Rumack  3 days ago\n",
    "\n",
    "I plotted the number of CLI visits (blue) and %CLI (orange). I think this doesn’t provide much support for Thought 3. Both curves are increasing and decreasing at the same time, even though the numerator’s first peak is higher than its second and the %CLI has its second peak higher than its first.\n",
    "\n",
    "![CLI](images/cli_perc.png)\n",
    "\n",
    "And in any event, we’re talking about the correlation in a single day across multiple counties, so Thought 3 would require that different locations saw a non-essential care spike at different times, which is not supported by Maria’s plots above"
   ]
  },
  {
   "cell_type": "markdown",
   "metadata": {},
   "source": [
    "Roni  3 days ago\n",
    "\n",
    "To resolve @Addison vs. @Maria subjective observation, can someone plot diff(DV - avg(non-DV)) across time?  It will give us a sense of the timign and rate of DV-dependent deterioration."
   ]
  },
  {
   "cell_type": "code",
   "execution_count": null,
   "metadata": {},
   "outputs": [],
   "source": []
  }
 ],
 "metadata": {
  "kernelspec": {
   "display_name": "Python 3",
   "language": "python",
   "name": "python3"
  },
  "language_info": {
   "codemirror_mode": {
    "name": "ipython",
    "version": 3
   },
   "file_extension": ".py",
   "mimetype": "text/x-python",
   "name": "python",
   "nbconvert_exporter": "python",
   "pygments_lexer": "ipython3",
   "version": "3.7.4"
  }
 },
 "nbformat": 4,
 "nbformat_minor": 4
}
